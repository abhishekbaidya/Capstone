{
    "cells": [
        {
            "cell_type": "markdown",
            "metadata": {
                "collapsed": true
            },
            "source": "# My Jupyter Notebook on IBM Watson Studio"
        },
        {
            "cell_type": "markdown",
            "metadata": {},
            "source": "#### Abhishek Baidya\nArchitect"
        },
        {
            "cell_type": "markdown",
            "metadata": {},
            "source": "###### I am interested in data science because I like gaining insights into data"
        },
        {
            "cell_type": "markdown",
            "metadata": {},
            "source": "### This is a basic addition of two numbers"
        },
        {
            "cell_type": "code",
            "execution_count": 1,
            "metadata": {},
            "outputs": [
                {
                    "data": {
                        "text/plain": "2"
                    },
                    "execution_count": 1,
                    "metadata": {},
                    "output_type": "execute_result"
                }
            ],
            "source": "1+1"
        },
        {
            "cell_type": "markdown",
            "metadata": {},
            "source": "---------------------------------------\n1. First item\n2. Second item\n3. Third item\n4. Fourth item\n---------------------------------------\n- First item\n- Second item\n- Third item\n- Fourth item\n---------------------------------------\nMy favorite search engine is [Duck Duck Go](https://duckduckgo.com).\n\n---------------------------------------\n\n~~The world is flat.~~\n\n---------------------------------------"
        }
    ],
    "metadata": {
        "kernelspec": {
            "display_name": "Python 3.6",
            "language": "python",
            "name": "python3"
        },
        "language_info": {
            "codemirror_mode": {
                "name": "ipython",
                "version": 3
            },
            "file_extension": ".py",
            "mimetype": "text/x-python",
            "name": "python",
            "nbconvert_exporter": "python",
            "pygments_lexer": "ipython3",
            "version": "3.6.9"
        }
    },
    "nbformat": 4,
    "nbformat_minor": 1
}